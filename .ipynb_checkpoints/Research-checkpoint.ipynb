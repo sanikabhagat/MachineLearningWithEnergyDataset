{
 "cells": [
  {
   "cell_type": "markdown",
   "metadata": {},
   "source": [
    "# Part 1 : Research"
   ]
  },
  {
   "cell_type": "markdown",
   "metadata": {},
   "source": [
    "### Paper 1 "
   ]
  },
  {
   "cell_type": "markdown",
   "metadata": {},
   "source": [
    "#### Introduction:\n",
    "\n",
    "The first paper basically discusses about data filtering to remove non-predictive parameters and feature ranking. \n",
    "This basically means that the paper focuses on reducing the number of predictive variables and rank the features so only the best features would be selected for model fitting nad the rest of the features can be ignored. \n",
    "\n",
    "\n",
    "Four statistical models were trained with repeated cross validation and evaluated in a testing set: \n",
    "(a) multiple linear regression, \n",
    "(b) support vector machine with radial kernel, \n",
    "(c) random forest and \n",
    "(d) gradient boosting machines (GBM). "
   ]
  },
  {
   "cell_type": "markdown",
   "metadata": {},
   "source": [
    "#### Data:"
   ]
  },
  {
   "cell_type": "markdown",
   "metadata": {},
   "source": [
    "The data is basically the hourly end-use data collected from 454 houses and 140 commercial buildings in the Pacific Northwest"
   ]
  },
  {
   "cell_type": "markdown",
   "metadata": {},
   "source": [
    "#### Analysis:"
   ]
  },
  {
   "cell_type": "markdown",
   "metadata": {},
   "source": [
    "The electricity consumption in domestic buildings is explained by two main factors: the type and number of electrical appliances and the use of the appliances by the occupants. The occupancy level of the building in different locations could also help to determine the use of the appliances.\n",
    "\n",
    "According to the information from the wireless network, the data from the kitchen, laundry and living room were ranked the highest in importance for the energy prediction. A recent study focused on major household appliances (refrigerator, clothes washer, clothes dryer and dishwasher) to find daily energy use profiles for each of them. It was shown that refrigerators have a uniform load profile, while clothes washers, clothes dryers and dishwashers are very user-dependent and thus vary from household to household and time of day. According to the research on the potential for demand response for refrigerators, clothes washers, clothes dryers and dishwashers, the highest rank was of clothes dryers mostly because of their large power demand.\n",
    "\n",
    "Another important point to be noted is that the prediction was carried out using different data sources and environmental parameters (indoor and outdoor conditions) and parameters such as such as the time of day, outdoor temperature, month, weekend, holidays, yesterday's consumption, rainfall index, global solar radiation, wind speed and occupancy\n",
    "\n",
    "The paper listed several appliances and parameters as having a significant positive effect on domestic electricity consumption: number of appliances, desktop and laptop computers, TV, video player/recorder, video console, electric oven, range hood, refrigerators, freezers, dishwasher, washing machine and tumble dryer among others.\n",
    "\n",
    "Also, from the data available to the researchers, an extensive list of variables was studied: weather, location (ZIP code), age of building, ownership, presence of double pane windows, energy efficient light fixtures, floor area, pet ownership, number of refrigerators and entertainment devices, number of occupants and income level were studied. The researchers concluded that the most important variables were weather, location, and floor area. \n",
    "\n",
    "Also the number of refrigerators and entertainment appliances (e.g. videocassette recorders, VCRs) are among the most important determinants of daily minimum consumption."
   ]
  },
  {
   "cell_type": "markdown",
   "metadata": {},
   "source": [
    "#### Walkthrough:"
   ]
  },
  {
   "cell_type": "markdown",
   "metadata": {},
   "source": [
    "A prediction system for the problem of individual appliance prediction was deduced. The system used information such as past consumption, hour, day, season and month.\n",
    "\n",
    "The approach to this analysis was exploratory data analysis of application consumption, followed by a description of the data splits and features. Then, a data filtering is carried out to remove any non-relevant variables which is then followed by model selection and performance. Then, the training of models with different data subsets is shown and the evaluation of trained models in the test sets is presented. \n",
    "\n",
    "The energy data is collected with an internet-connected energy monitoring system where it is stored and then it is reported by e-mail every 12 hours. The energy (Wh) data logged every 10 minutes for the appliances is the focus of this analysis. The 10 minutes reporting interval was chosen to be able to capture quick changes in energy consumption\n",
    "\n",
    "In this paper, Boruta package is used to select all the relevant variables. To test the Boruta algorithm, two random variables were introduced in the data sets. The Boruta package compares importance of attributes with importance of shadow attributes that are created by shuffling original ones."
   ]
  },
  {
   "cell_type": "markdown",
   "metadata": {},
   "source": [
    "#### Observations:"
   ]
  },
  {
   "cell_type": "markdown",
   "metadata": {},
   "source": [
    "The best model (GBM) was able to explain 97% of the variance (R2) in the training set and with 57% in the testing set when using all the predictors.\n",
    "\n",
    "The consumption of appliances represents the highest percentage of electrical consumption, between 70% and 79% of the monthly consumption. \n",
    "\n",
    "For all the models, the time information (NSM) was ranked as the most important to predict the appliances’ consumption."
   ]
  },
  {
   "cell_type": "markdown",
   "metadata": {},
   "source": [
    "#### Conclusion"
   ]
  },
  {
   "cell_type": "markdown",
   "metadata": {},
   "source": [
    "Some of the conclusions drawn from the paper are:\n",
    "\n",
    "Data from a wireless sensor network that measures humidity and temperature has been proven to increase the prediction accuracy. \n",
    "\n",
    "The data analysis showed that data from the kitchen, laundry room, living room and bathrooms had the most important contributions. Data from the other rooms also helps in the prediction. \n",
    "\n",
    "When looking at the appliances in each room, it can be seen that the laundry, kitchen and living rooms would be expected to have the highest contributions because of the equipment present "
   ]
  },
  {
   "cell_type": "markdown",
   "metadata": {},
   "source": [
    "### Paper 2"
   ]
  },
  {
   "cell_type": "markdown",
   "metadata": {},
   "source": [
    "#### Introduction:"
   ]
  },
  {
   "cell_type": "markdown",
   "metadata": {},
   "source": [
    "Building energy prediction can be broadly classified into engineering, Artificial Intelligence (AI) based, and hybrid approaches. The AI-based approach uses historical data to predict future energy use under constraints and this paper elaborates the principles, applications, advantages and limitations of the AI-based prediction methods.\n",
    "\n",
    "The engineering method estimates energy use by using thermodynamic equations to represent the physical behavior of systems and their interactions with the environment to estimate energy use, i.e., energy consumption of individual building component or the entire building. This method is referred to as the ‘white-box’ as the inner logic is known. Different from engineering approach, the AI-based method is referred to as the ‘black-box’ because it predicts energy use without knowing the internal relationship of the building and its individual components. The hybrid method, also known as the ‘grey-box’, integrates both white-box and black-box methods for the purpose of eliminating the limitations inherent in each method. "
   ]
  },
  {
   "cell_type": "markdown",
   "metadata": {},
   "source": [
    "#### Walkthrough:"
   ]
  },
  {
   "cell_type": "markdown",
   "metadata": {},
   "source": [
    "AI-based prediction method predicts building energy use according to its correlated variables such as environmental conditions, building characteristics, and occupancy status.\n",
    "\n",
    "Using time series data, AI-based models can be employed to predict future behavior of energy use whereas energy modeling software, as forward classical approach, offer energy estimation on a 15-min, hourly, monthly, or annual basis for the known structure. This leads to one of the significant advantages of AI-based models, in that, they require a small number of parameters that adequately represent the performance of the building, as a system when compared to a whole building energy simulation algorithms which require known structure and known parameters as they are subjected to input variables for estimation."
   ]
  },
  {
   "cell_type": "markdown",
   "metadata": {},
   "source": [
    "#### Data:"
   ]
  },
  {
   "cell_type": "markdown",
   "metadata": {},
   "source": [
    "#### Selection Criteria\n",
    "\n",
    "The selection criteria for the analysis included the building types, prediction approaches, energy output types predicted, time scale of the prediction, and input data types used for prediction\n",
    "\n",
    "#### 1. Type of building\n",
    "Different types of buildings were used to validate the prediction performance of the proposed prediction model. The tested buildings may be classified into four categories, e.g., commercial, residential, educational and research, and other building types.\n",
    "\n",
    "The AI-based prediction models were largely used for energy prediction of the educational and research, and commercial building types, i.e., 42% and 33% respectively. Also, although the residential buildings account for the largest proportion of building energy use, there are limited studies related to the application of AI-based approaches to predict energy use. This is because the residential buildings, particularly the single-family houses, are short of sensors and meters to collect occupancy and energy data,\n",
    "\n",
    "\n",
    "#### 2. Prediction Approaches \n",
    "According to the model structure and the number of prediction models used, these models may be classified into two categories: single and ensemble prediction models. In this paper, the learning algorithms are classified into four categories: regression, ANN, SVR, and all others. The ANNs were widely used because of their ease of implementation and reliable prediction performance. In the case of MLR, it has advantages in long-term building energy use prediction such as ease of use and computation simplicity\n",
    "\n",
    "#### 3. Energy type\n",
    "Based on the level of detail, the predicted energy may be classified into five categories namely, whole building energy/electricity, heating & cooling energy, heating energy, cooling energy, and all others.\n",
    "\n",
    "#### 4. Prediction Time Scale\n",
    "Prediction time scale represents the time resolution of the prediction which is often impacted by the sampling interval of sensors and the purpose of the research. In the paper, various prediction time scales, e.g., minute-by-minute, hourly, daily, or annual, were chosen for building energy use prediction.\n",
    "\n",
    "#### 5. Input Data Type\n",
    "Based on the type of input data, the authors classify them into three categories namely, the meteorological data, occupancy data, and all others. The meteorological data includes the information of outdoor temperature, humidity, wind speed, precipitation, and solar radiation, which can be collected from the local weather station. The occupants have significant impacts on building energy use, therefore, including occupancy information enhance the performance of AI-based prediction model. "
   ]
  },
  {
   "cell_type": "markdown",
   "metadata": {},
   "source": [
    "#### Prediction Models:\n",
    "AI-based prediction method consists of four main steps: data collection, data preprocessing, model training, and model testing. The first step is to acquire historical input and output data. The prediction accuracy of AI-based prediction model highly depends on the selection of input data."
   ]
  },
  {
   "cell_type": "markdown",
   "metadata": {},
   "source": [
    "#### Conclusion:"
   ]
  },
  {
   "cell_type": "markdown",
   "metadata": {},
   "source": [
    "The paper shows that current research trends of AI-based prediction methods are analyzed from five aspects, namely, the type of studied buildings, the methods used for prediction, the type of predicted energies, the time scale of the prediction, and the type of input data used for prediction. Two main categories of AI-based prediction methods, namely, the single prediction methods and the ensemble prediction methods are discussed and compared.\n",
    "\n",
    "AI-based prediction method predicts building energy use according to its correlated variables such as environmental conditions, building characteristics, and occupancy status.\n",
    "\n",
    "This paper provides insight into a more recently applied approach for AI-based building energy prediction – the ensemble learning, which combines multiple AI-based models to improve prediction accuracy. This paper offers a detailed comparison between the conventional single prediction (i.e., using one AI-based model) and ensemble prediction models (i.e., using multiple AI-based models). "
   ]
  },
  {
   "cell_type": "markdown",
   "metadata": {},
   "source": [
    "### Paper 3"
   ]
  },
  {
   "cell_type": "markdown",
   "metadata": {},
   "source": [
    "#### Introduction:"
   ]
  },
  {
   "cell_type": "markdown",
   "metadata": {},
   "source": [
    "This paper presents methods for prediction of energy consumption of different appliances in homes. The aim is to predict the next day electricity consumption (next 24 hours) for some services in homes\n",
    "\n",
    "In this context, a proper prediction of energy demand in housing sector is very important. A bottom-up approach can be used: first, the energy consumption prediction is done for each appliance in a home, then the forecast will be made for the total energy consumed in a home and, finally, a prediction can be made regarding the households supplied by a certain energy provider."
   ]
  },
  {
   "cell_type": "markdown",
   "metadata": {},
   "source": [
    "#### Data: "
   ]
  },
  {
   "cell_type": "markdown",
   "metadata": {},
   "source": [
    "Historical data for a set of homes in France was used"
   ]
  },
  {
   "cell_type": "markdown",
   "metadata": {},
   "source": [
    "#### Approach:"
   ]
  },
  {
   "cell_type": "markdown",
   "metadata": {},
   "source": [
    "Smart Grid : Smart grid integrates the use of sensors, communications, computational ability and control in order to enhance the overall functionality of the electric power system\n",
    "\n",
    "The main purpose of the electrical grid is to assure the energy production necessary for consumers' consumption in a reliable manner.\n",
    "\n",
    "Considering direct load control, it is essential to know the energy consumption in smart homes appliance by appliance in order to compute the energy reserve or to be able to stop certain services in case of higher energy demand"
   ]
  },
  {
   "cell_type": "markdown",
   "metadata": {},
   "source": [
    "#### Conclusion:"
   ]
  },
  {
   "cell_type": "markdown",
   "metadata": {},
   "source": [
    "Forecasting the energy consumption in homes is an important aspect in the power management of the grid, as the consumption in the residential sector represents a significant percentage in the total electricity demand. The development of the smart grid is not possible without a good prediction of energy consumption. The trend nowadays is to get the prediction of energy consumption not only at house level, but at household appliance level."
   ]
  }
 ],
 "metadata": {
  "kernelspec": {
   "display_name": "Python 3",
   "language": "python",
   "name": "python3"
  },
  "language_info": {
   "codemirror_mode": {
    "name": "ipython",
    "version": 3
   },
   "file_extension": ".py",
   "mimetype": "text/x-python",
   "name": "python",
   "nbconvert_exporter": "python",
   "pygments_lexer": "ipython3",
   "version": "3.6.5"
  }
 },
 "nbformat": 4,
 "nbformat_minor": 2
}
