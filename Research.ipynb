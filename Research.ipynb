{
 "cells": [
  {
   "cell_type": "markdown",
   "metadata": {},
   "source": [
    "# Part 1 : Research"
   ]
  },
  {
   "cell_type": "markdown",
   "metadata": {},
   "source": [
    "### Paper 1 "
   ]
  },
  {
   "cell_type": "markdown",
   "metadata": {},
   "source": [
    "#### Introduction:\n",
    "\n",
    "The first paper basically discusses about data filtering to remove non-predictive parameters and feature ranking. \n",
    "This basically means that the paper focuses on reducing the number of predictive variables and rank the features so only the best features would be selected for model fitting nad the rest of the features can be ignored. \n",
    "\n",
    "\n",
    "Four statistical models were trained with repeated cross validation and evaluated in a testing set: \n",
    "(a) multiple linear regression, \n",
    "(b) support vector machine with radial kernel, \n",
    "(c) random forest and \n",
    "(d) gradient boosting machines (GBM). "
   ]
  },
  {
   "cell_type": "markdown",
   "metadata": {},
   "source": [
    "#### Data:"
   ]
  },
  {
   "cell_type": "markdown",
   "metadata": {},
   "source": [
    "The data is basically the hourly end-use data collected from 454 houses and 140 commercial buildings in the Pacific Northwest"
   ]
  },
  {
   "cell_type": "markdown",
   "metadata": {},
   "source": [
    "#### Analysis:"
   ]
  },
  {
   "cell_type": "markdown",
   "metadata": {},
   "source": [
    "The electricity consumption in domestic buildings is explained by two main factors: the type and number of electrical appliances and the use of the appliances by the occupants. The occupancy level of the building in different locations could also help to determine the use of the appliances.\n",
    "\n",
    "According to the information from the wireless network, the data from the kitchen, laundry and living room were ranked the highest in importance for the energy prediction. A recent study focused on major household appliances (refrigerator, clothes washer, clothes dryer and dishwasher) to find daily energy use profiles for each of them. It was shown that refrigerators have a uniform load profile, while clothes washers, clothes dryers and dishwashers are very user-dependent and thus vary from household to household and time of day. According to the research on the potential for demand response for refrigerators, clothes washers, clothes dryers and dishwashers, the highest rank was of clothes dryers mostly because of their large power demand.\n",
    "\n",
    "Another important point to be noted is that the prediction was carried out using different data sources and environmental parameters (indoor and outdoor conditions) and parameters such as such as the time of day, outdoor temperature, month, weekend, holidays, yesterday's consumption, rainfall index, global solar radiation, wind speed and occupancy\n",
    "\n",
    "The paper listed several appliances and parameters as having a significant positive effect on domestic electricity consumption: number of appliances, desktop and laptop computers, TV, video player/recorder, video console, electric oven, range hood, refrigerators, freezers, dishwasher, washing machine and tumble dryer among others.\n",
    "\n",
    "Also, from the data available to the researchers, an extensive list of variables was studied: weather, location (ZIP code), age of building, ownership, presence of double pane windows, energy efficient light fixtures, floor area, pet ownership, number of refrigerators and entertainment devices, number of occupants and income level were studied. The researchers concluded that the most important variables were weather, location, and floor area. \n",
    "\n",
    "Also the number of refrigerators and entertainment appliances (e.g. videocassette recorders, VCRs) are among the most important determinants of daily minimum consumption."
   ]
  },
  {
   "cell_type": "markdown",
   "metadata": {},
   "source": [
    "#### Walkthrough:"
   ]
  },
  {
   "cell_type": "markdown",
   "metadata": {},
   "source": [
    "A prediction system for the problem of individual appliance prediction was deduced. The system used information such as past consumption, hour, day, season and month.\n",
    "\n",
    "The approach to this analysis was exploratory data analysis of application consumption, followed by a description of the data splits and features. Then, a data filtering is carried out to remove any non-relevant variables which is then followed by model selection and performance. Then, the training of models with different data subsets is shown and the evaluation of trained models in the test sets is presented. \n",
    "\n",
    "The energy data is collected with an internet-connected energy monitoring system where it is stored and then it is reported by e-mail every 12 hours. The energy (Wh) data logged every 10 minutes for the appliances is the focus of this analysis. The 10 minutes reporting interval was chosen to be able to capture quick changes in energy consumption\n",
    "\n",
    "In this paper, Boruta package is used to select all the relevant variables. To test the Boruta algorithm, two random variables were introduced in the data sets. The Boruta package compares importance of attributes with importance of shadow attributes that are created by shuffling original ones."
   ]
  },
  {
   "cell_type": "markdown",
   "metadata": {},
   "source": [
    "#### Observations:"
   ]
  },
  {
   "cell_type": "markdown",
   "metadata": {},
   "source": [
    "The best model (GBM) was able to explain 97% of the variance (R2) in the training set and with 57% in the testing set when using all the predictors.\n",
    "\n",
    "The consumption of appliances represents the highest percentage of electrical consumption, between 70% and 79% of the monthly consumption. \n",
    "\n",
    "For all the models, the time information (NSM) was ranked as the most important to predict the appliances’ consumption."
   ]
  },
  {
   "cell_type": "markdown",
   "metadata": {},
   "source": [
    "### Paper 2"
   ]
  },
  {
   "cell_type": "code",
   "execution_count": null,
   "metadata": {},
   "outputs": [],
   "source": []
  }
 ],
 "metadata": {
  "kernelspec": {
   "display_name": "Python 3",
   "language": "python",
   "name": "python3"
  },
  "language_info": {
   "codemirror_mode": {
    "name": "ipython",
    "version": 3
   },
   "file_extension": ".py",
   "mimetype": "text/x-python",
   "name": "python",
   "nbconvert_exporter": "python",
   "pygments_lexer": "ipython3",
   "version": "3.6.5"
  }
 },
 "nbformat": 4,
 "nbformat_minor": 2
}
